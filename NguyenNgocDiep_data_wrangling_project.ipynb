{
 "cells": [
  {
   "cell_type": "code",
   "execution_count": 1,
   "id": "551bdd90",
   "metadata": {},
   "outputs": [],
   "source": [
    "import pandas as pd\n",
    "url = ('D:\\Data Analyts course\\Python\\Project2\\Data Wrangling Practise\\prices.csv')\n",
    "price = pd.read_csv(url)\n",
    "url2 = ('D:\\Data Analyts course\\Python\\Project2\\Data Wrangling Practise\\sales.csv')\n",
    "sales = pd.read_csv(url2)"
   ]
  },
  {
   "cell_type": "code",
   "execution_count": 2,
   "id": "a07a2128",
   "metadata": {},
   "outputs": [],
   "source": [
    "#Đổi các cột thời gian từ dạng Series pandas thành datetime\n",
    "sales[\"ordered_at\"] = pd.to_datetime(sales[\"ordered_at\"])\n",
    "price[\"updated_at\"] = pd.to_datetime(price[\"updated_at\"])"
   ]
  },
  {
   "cell_type": "code",
   "execution_count": 3,
   "id": "ae66daa0",
   "metadata": {},
   "outputs": [],
   "source": [
    "#Nối bảng sales và price sao cho thời gian update giá trước hoặc bằng thời gian order để lấy giá mới\n",
    "merge_tab = pd.merge_asof(sales.sort_values(\"ordered_at\"), price.sort_values(\"updated_at\"), left_on = \"ordered_at\", right_on = \"updated_at\", by = \"product_id\")\n",
    "merge_tab =  merge_tab [['product_id', 'ordered_at', 'quantity_ordered', 'new_price', 'updated_at']]"
   ]
  },
  {
   "cell_type": "code",
   "execution_count": 4,
   "id": "961c82e1",
   "metadata": {},
   "outputs": [],
   "source": [
    "#Nối các order chưa khớp giá với bảng price sao cho thời gian update giá sau thời gian order để lấy giá cũ\n",
    "filtered_df = merge_tab[merge_tab['new_price'].isna()]\n",
    "sub_tab = pd.merge_asof(filtered_df.sort_values(\"ordered_at\"), price.sort_values(\"updated_at\"),left_on = \"ordered_at\", right_on = \"updated_at\", by = \"product_id\", direction = \"forward\")\n",
    "sub_tab = sub_tab [['product_id', 'ordered_at', 'quantity_ordered', 'old_price', 'updated_at_y']]\n",
    "sub_tab = sub_tab.rename(columns = {'old_price': 'price'})\n",
    "sub_tab = sub_tab.rename(columns = {'updated_at_y': 'update_at'})"
   ]
  },
  {
   "cell_type": "code",
   "execution_count": 6,
   "id": "42ff81da",
   "metadata": {},
   "outputs": [],
   "source": [
    "#Xóa các dòng order chưa khớp giá ở merge_tab\n",
    "tab = merge_tab[merge_tab.new_price.notnull()]\n",
    "tab = tab.rename(columns = {'new_price':'price'})"
   ]
  },
  {
   "cell_type": "code",
   "execution_count": 7,
   "id": "a81ed72a",
   "metadata": {},
   "outputs": [
    {
     "name": "stdout",
     "output_type": "stream",
     "text": [
      "     product_id          ordered_at  quantity_ordered    price    total\n",
      "0       3954203 2018-09-11 01:43:00                 1  60000.0  60000.0\n",
      "1       4085861 2018-09-11 09:30:00                 1  53500.0  53500.0\n",
      "2       4085861 2018-09-11 11:06:00                 1  53500.0  53500.0\n",
      "3       3954203 2018-09-11 11:11:00                 1  60000.0  60000.0\n",
      "4       3954203 2018-09-11 11:11:00                 1  60000.0  60000.0\n",
      "..          ...                 ...               ...      ...      ...\n",
      "170     3954203 2018-09-18 21:26:00                 1  57500.0  57500.0\n",
      "171     3998909 2018-09-18 22:11:00                 1  16500.0  16500.0\n",
      "172     4085861 2018-09-11 06:26:00                 1  60000.0  60000.0\n",
      "173     4085861 2018-09-11 06:53:00                 1  60000.0  60000.0\n",
      "174     4085861 2018-09-11 08:24:00                 1  60000.0  60000.0\n",
      "\n",
      "[175 rows x 5 columns]\n"
     ]
    }
   ],
   "source": [
    "#Tạo bảng tổng hợp gồm mã sp, ngày order, số lượng, đơn giá và thành tiền\n",
    "BTH = pd.concat ([tab, sub_tab], ignore_index = True)\n",
    "BTH = BTH[['product_id', 'ordered_at', 'quantity_ordered', 'price']]\n",
    "BTH['total'] = BTH['price'] * BTH['quantity_ordered']\n",
    "print (BTH)"
   ]
  },
  {
   "cell_type": "code",
   "execution_count": 21,
   "id": "bdaa7fb7",
   "metadata": {},
   "outputs": [
    {
     "data": {
      "text/plain": [
       "product_id\n",
       "64          956000.0\n",
       "3954203     877500.0\n",
       "3998909     280500.0\n",
       "4085861    8247500.0\n",
       "Name: total, dtype: float64"
      ]
     },
     "execution_count": 21,
     "metadata": {},
     "output_type": "execute_result"
    }
   ],
   "source": [
    "#Bảng tổng doanh thu từng sản phẩm trong tháng 9/2018\n",
    "BTH.groupby(\"product_id\")[\"total\"].sum()"
   ]
  },
  {
   "cell_type": "code",
   "execution_count": 11,
   "id": "fd801e25",
   "metadata": {},
   "outputs": [
    {
     "data": {
      "text/plain": [
       "product_id  price   \n",
       "64          239000.0     956000.0\n",
       "3954203     57500.0       57500.0\n",
       "            60000.0      180000.0\n",
       "            64000.0      640000.0\n",
       "3998909     15500.0       15500.0\n",
       "            16500.0      231000.0\n",
       "            17000.0       34000.0\n",
       "4085861     52000.0     1040000.0\n",
       "            53500.0     2140000.0\n",
       "            58000.0     2204000.0\n",
       "            60000.0      180000.0\n",
       "            62500.0     1812500.0\n",
       "            67000.0      871000.0\n",
       "Name: total, dtype: float64"
      ]
     },
     "execution_count": 11,
     "metadata": {},
     "output_type": "execute_result"
    }
   ],
   "source": [
    "#Bảng tổng hợp doanh thu theo từng sản phẩm và từng mức giá\n",
    "BTH.groupby(['product_id', 'price'])['total'].sum()"
   ]
  }
 ],
 "metadata": {
  "kernelspec": {
   "display_name": "Python 3 (ipykernel)",
   "language": "python",
   "name": "python3"
  },
  "language_info": {
   "codemirror_mode": {
    "name": "ipython",
    "version": 3
   },
   "file_extension": ".py",
   "mimetype": "text/x-python",
   "name": "python",
   "nbconvert_exporter": "python",
   "pygments_lexer": "ipython3",
   "version": "3.10.9"
  }
 },
 "nbformat": 4,
 "nbformat_minor": 5
}
