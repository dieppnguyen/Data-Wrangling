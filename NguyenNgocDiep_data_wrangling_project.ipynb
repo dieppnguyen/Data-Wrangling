{
 "cells": [
  {
   "cell_type": "code",
   "execution_count": 1,
   "id": "551bdd90",
   "metadata": {},
   "outputs": [],
   "source": [
    "import pandas as pd\n",
    "url = ('D:\\Data Analyts course\\Python\\Project2\\Data Wrangling Practise\\prices.csv')\n",
    "price = pd.read_csv(url)\n",
    "url2 = ('D:\\Data Analyts course\\Python\\Project2\\Data Wrangling Practise\\sales.csv')\n",
    "sales = pd.read_csv(url2)"
   ]
  },
  {
   "cell_type": "code",
   "execution_count": 2,
   "id": "a07a2128",
   "metadata": {},
   "outputs": [],
   "source": [
    "#Đổi các cột thời gian từ dạng Series pandas thành datetime\n",
    "sales[\"ordered_at\"] = pd.to_datetime(sales[\"ordered_at\"])\n",
    "price[\"updated_at\"] = pd.to_datetime(price[\"updated_at\"])"
   ]
  },
  {
   "cell_type": "code",
   "execution_count": 3,
   "id": "ae66daa0",
   "metadata": {},
   "outputs": [],
   "source": [
    "#Nối bảng sales và price sao cho thời gian update giá trước hoặc bằng thời gian order để lấy giá mới\n",
    "merge_tab = pd.merge_asof(sales.sort_values(\"ordered_at\"), price.sort_values(\"updated_at\"), left_on = \"ordered_at\", right_on = \"updated_at\", by = \"product_id\")\n",
    "merge_tab =  merge_tab [['product_id', 'ordered_at', 'quantity_ordered', 'new_price', 'updated_at']]"
   ]
  },
  {
   "cell_type": "code",
   "execution_count": 4,
   "id": "961c82e1",
   "metadata": {},
   "outputs": [],
   "source": [
    "#Nối các order chưa khớp giá với bảng price sao cho thời gian update giá sau thời gian order để lấy giá cũ\n",
    "filtered_df = merge_tab[merge_tab['new_price'].isna()]\n",
    "sub_tab = pd.merge_asof(filtered_df.sort_values(\"ordered_at\"), price.sort_values(\"updated_at\"),left_on = \"ordered_at\", right_on = \"updated_at\", by = \"product_id\", direction = \"forward\")\n",
    "sub_tab = sub_tab [['product_id', 'ordered_at', 'quantity_ordered', 'old_price', 'updated_at_y']]\n",
    "sub_tab = sub_tab.rename(columns = {'old_price': 'price'})\n",
    "sub_tab = sub_tab.rename(columns = {'updated_at_y': 'update_at'})"
   ]
  },
  {
   "cell_type": "code",
   "execution_count": 5,
   "id": "42ff81da",
   "metadata": {},
   "outputs": [],
   "source": [
    "#Xóa các dòng order chưa khớp giá ở merge_tab\n",
    "tab = merge_tab[merge_tab.new_price.notnull()]\n",
    "tab = tab.rename(columns = {'new_price':'price'})"
   ]
  },
  {
   "cell_type": "code",
   "execution_count": 6,
   "id": "a81ed72a",
   "metadata": {},
   "outputs": [
    {
     "name": "stdout",
     "output_type": "stream",
     "text": [
      "     product_id          ordered_at  quantity_ordered    price    total\n",
      "0       3954203 2018-09-11 01:43:00                 1  60000.0  60000.0\n",
      "1       4085861 2018-09-11 09:30:00                 1  53500.0  53500.0\n",
      "2       4085861 2018-09-11 11:06:00                 1  53500.0  53500.0\n",
      "3       3954203 2018-09-11 11:11:00                 1  60000.0  60000.0\n",
      "4       3954203 2018-09-11 11:11:00                 1  60000.0  60000.0\n",
      "..          ...                 ...               ...      ...      ...\n",
      "170     3954203 2018-09-18 21:26:00                 1  57500.0  57500.0\n",
      "171     3998909 2018-09-18 22:11:00                 1  16500.0  16500.0\n",
      "172     4085861 2018-09-11 06:26:00                 1  60000.0  60000.0\n",
      "173     4085861 2018-09-11 06:53:00                 1  60000.0  60000.0\n",
      "174     4085861 2018-09-11 08:24:00                 1  60000.0  60000.0\n",
      "\n",
      "[175 rows x 5 columns]\n"
     ]
    }
   ],
   "source": [
    "#Tạo bảng tổng hợp gồm mã sp, ngày order, số lượng, đơn giá và thành tiền\n",
    "BTH = pd.concat ([tab, sub_tab], ignore_index = True)\n",
    "BTH = BTH[['product_id', 'ordered_at', 'quantity_ordered', 'price']]\n",
    "BTH['total'] = BTH['price'] * BTH['quantity_ordered']\n",
    "print (BTH)"
   ]
  },
  {
   "cell_type": "code",
   "execution_count": 8,
   "id": "bdaa7fb7",
   "metadata": {},
   "outputs": [
    {
     "data": {
      "text/html": [
       "<div>\n",
       "<style scoped>\n",
       "    .dataframe tbody tr th:only-of-type {\n",
       "        vertical-align: middle;\n",
       "    }\n",
       "\n",
       "    .dataframe tbody tr th {\n",
       "        vertical-align: top;\n",
       "    }\n",
       "\n",
       "    .dataframe thead th {\n",
       "        text-align: right;\n",
       "    }\n",
       "</style>\n",
       "<table border=\"1\" class=\"dataframe\">\n",
       "  <thead>\n",
       "    <tr style=\"text-align: right;\">\n",
       "      <th></th>\n",
       "      <th>product_id</th>\n",
       "      <th>total</th>\n",
       "    </tr>\n",
       "  </thead>\n",
       "  <tbody>\n",
       "    <tr>\n",
       "      <th>0</th>\n",
       "      <td>64</td>\n",
       "      <td>956000.0</td>\n",
       "    </tr>\n",
       "    <tr>\n",
       "      <th>1</th>\n",
       "      <td>3954203</td>\n",
       "      <td>877500.0</td>\n",
       "    </tr>\n",
       "    <tr>\n",
       "      <th>2</th>\n",
       "      <td>3998909</td>\n",
       "      <td>280500.0</td>\n",
       "    </tr>\n",
       "    <tr>\n",
       "      <th>3</th>\n",
       "      <td>4085861</td>\n",
       "      <td>8247500.0</td>\n",
       "    </tr>\n",
       "  </tbody>\n",
       "</table>\n",
       "</div>"
      ],
      "text/plain": [
       "   product_id      total\n",
       "0          64   956000.0\n",
       "1     3954203   877500.0\n",
       "2     3998909   280500.0\n",
       "3     4085861  8247500.0"
      ]
     },
     "execution_count": 8,
     "metadata": {},
     "output_type": "execute_result"
    }
   ],
   "source": [
    "#Bảng tổng doanh thu từng sản phẩm trong tháng 9/2018\n",
    "revenue_by_product = BTH.groupby(\"product_id\")[\"total\"].sum().reset_index()\n",
    "revenue_by_product"
   ]
  },
  {
   "cell_type": "code",
   "execution_count": 10,
   "id": "fd801e25",
   "metadata": {},
   "outputs": [
    {
     "data": {
      "text/html": [
       "<div>\n",
       "<style scoped>\n",
       "    .dataframe tbody tr th:only-of-type {\n",
       "        vertical-align: middle;\n",
       "    }\n",
       "\n",
       "    .dataframe tbody tr th {\n",
       "        vertical-align: top;\n",
       "    }\n",
       "\n",
       "    .dataframe thead th {\n",
       "        text-align: right;\n",
       "    }\n",
       "</style>\n",
       "<table border=\"1\" class=\"dataframe\">\n",
       "  <thead>\n",
       "    <tr style=\"text-align: right;\">\n",
       "      <th></th>\n",
       "      <th>product_id</th>\n",
       "      <th>price</th>\n",
       "      <th>total</th>\n",
       "    </tr>\n",
       "  </thead>\n",
       "  <tbody>\n",
       "    <tr>\n",
       "      <th>0</th>\n",
       "      <td>64</td>\n",
       "      <td>239000.0</td>\n",
       "      <td>956000.0</td>\n",
       "    </tr>\n",
       "    <tr>\n",
       "      <th>1</th>\n",
       "      <td>3954203</td>\n",
       "      <td>57500.0</td>\n",
       "      <td>57500.0</td>\n",
       "    </tr>\n",
       "    <tr>\n",
       "      <th>2</th>\n",
       "      <td>3954203</td>\n",
       "      <td>60000.0</td>\n",
       "      <td>180000.0</td>\n",
       "    </tr>\n",
       "    <tr>\n",
       "      <th>3</th>\n",
       "      <td>3954203</td>\n",
       "      <td>64000.0</td>\n",
       "      <td>640000.0</td>\n",
       "    </tr>\n",
       "    <tr>\n",
       "      <th>4</th>\n",
       "      <td>3998909</td>\n",
       "      <td>15500.0</td>\n",
       "      <td>15500.0</td>\n",
       "    </tr>\n",
       "    <tr>\n",
       "      <th>5</th>\n",
       "      <td>3998909</td>\n",
       "      <td>16500.0</td>\n",
       "      <td>231000.0</td>\n",
       "    </tr>\n",
       "    <tr>\n",
       "      <th>6</th>\n",
       "      <td>3998909</td>\n",
       "      <td>17000.0</td>\n",
       "      <td>34000.0</td>\n",
       "    </tr>\n",
       "    <tr>\n",
       "      <th>7</th>\n",
       "      <td>4085861</td>\n",
       "      <td>52000.0</td>\n",
       "      <td>1040000.0</td>\n",
       "    </tr>\n",
       "    <tr>\n",
       "      <th>8</th>\n",
       "      <td>4085861</td>\n",
       "      <td>53500.0</td>\n",
       "      <td>2140000.0</td>\n",
       "    </tr>\n",
       "    <tr>\n",
       "      <th>9</th>\n",
       "      <td>4085861</td>\n",
       "      <td>58000.0</td>\n",
       "      <td>2204000.0</td>\n",
       "    </tr>\n",
       "    <tr>\n",
       "      <th>10</th>\n",
       "      <td>4085861</td>\n",
       "      <td>60000.0</td>\n",
       "      <td>180000.0</td>\n",
       "    </tr>\n",
       "    <tr>\n",
       "      <th>11</th>\n",
       "      <td>4085861</td>\n",
       "      <td>62500.0</td>\n",
       "      <td>1812500.0</td>\n",
       "    </tr>\n",
       "    <tr>\n",
       "      <th>12</th>\n",
       "      <td>4085861</td>\n",
       "      <td>67000.0</td>\n",
       "      <td>871000.0</td>\n",
       "    </tr>\n",
       "  </tbody>\n",
       "</table>\n",
       "</div>"
      ],
      "text/plain": [
       "    product_id     price      total\n",
       "0           64  239000.0   956000.0\n",
       "1      3954203   57500.0    57500.0\n",
       "2      3954203   60000.0   180000.0\n",
       "3      3954203   64000.0   640000.0\n",
       "4      3998909   15500.0    15500.0\n",
       "5      3998909   16500.0   231000.0\n",
       "6      3998909   17000.0    34000.0\n",
       "7      4085861   52000.0  1040000.0\n",
       "8      4085861   53500.0  2140000.0\n",
       "9      4085861   58000.0  2204000.0\n",
       "10     4085861   60000.0   180000.0\n",
       "11     4085861   62500.0  1812500.0\n",
       "12     4085861   67000.0   871000.0"
      ]
     },
     "execution_count": 10,
     "metadata": {},
     "output_type": "execute_result"
    }
   ],
   "source": [
    "#Bảng tổng hợp doanh thu theo từng sản phẩm và từng mức giá\n",
    "revenue_by_productNprice = BTH.groupby(['product_id', 'price'])['total'].sum().reset_index()\n",
    "revenue_by_productNprice"
   ]
  },
  {
   "cell_type": "code",
   "execution_count": null,
   "id": "133dbf8f",
   "metadata": {},
   "outputs": [],
   "source": []
  }
 ],
 "metadata": {
  "kernelspec": {
   "display_name": "Python 3 (ipykernel)",
   "language": "python",
   "name": "python3"
  },
  "language_info": {
   "codemirror_mode": {
    "name": "ipython",
    "version": 3
   },
   "file_extension": ".py",
   "mimetype": "text/x-python",
   "name": "python",
   "nbconvert_exporter": "python",
   "pygments_lexer": "ipython3",
   "version": "3.10.9"
  }
 },
 "nbformat": 4,
 "nbformat_minor": 5
}
